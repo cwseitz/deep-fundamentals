{
 "cells": [
  {
   "cell_type": "code",
   "execution_count": 18,
   "metadata": {},
   "outputs": [
    {
     "data": {
      "image/png": "[encoded data removed]",
      "text/plain": [
       "<Figure size 432x288 with 1 Axes>"
      ]
     },
     "metadata": {
      "needs_background": "light"
     },
     "output_type": "display_data"
    }
   ],
   "source": [
    "import numpy as np\n",
    "import matplotlib.pyplot as plt\n",
    "import edf\n",
    "import mnist_loader\n",
    "\n",
    "train_images, train_labels = mnist_loader.load_mnist(section = 'training', path = 'MNIST')\n",
    "test_images, test_labels = mnist_loader.load_mnist(section = 'testing', path = 'MNIST')\n",
    "\n",
    "plt.imshow(train_images[0], cmap='gray', interpolation = 'nearest')\n",
    "plt.show()"
   ]
  },
  {
   "cell_type": "code",
   "execution_count": 19,
   "metadata": {},
   "outputs": [],
   "source": [
    "\"\"\"we will reshape the 28x28 grayscale images as \n",
    "784-dimensional vectors, which will be the network's inputs\"\"\"\n",
    "\n",
    "train_images = train_images.reshape(len(train_images), -1)\n",
    "test_images = test_images.reshape(len(test_images), -1)"
   ]
  },
  {
   "cell_type": "code",
   "execution_count": 20,
   "metadata": {},
   "outputs": [],
   "source": [
    "\"\"\"we manually set the number of input features (784)\n",
    "and number of classes (10) which will be used to\n",
    "define the model\"\"\"\n",
    "\n",
    "nInputs = 784\n",
    "nLabels = 10\n",
    "\n",
    "\"\"\"below, MLPparams is an EDF ParameterPackage whose\n",
    "purpose is to define and store the parameters of the model,\n",
    "while MLPgraph is a function that implements the model's\n",
    "forward pass -- in this case, just a 1-hidden layer MLP\"\"\"\n",
    "\n",
    "class MLPparams(edf.ParameterPackage):\n",
    "    def __init__(self,nInputs, nHiddens, nLabels):\n",
    "        self.first = edf.AffineParams(nInputs,nHiddens)\n",
    "        self.last = edf.AffineParams(nHiddens,nLabels)\n",
    "        \n",
    "def MLPsigmoidgraph(Phi, x):\n",
    "    h = edf.Sigmoid(edf.Affine(Phi.first, x))\n",
    "    return edf.Softmax(edf.Affine(Phi.last, h))\n",
    "\n",
    "\"\"\"we then construct a MLP with 64 hidden units\"\"\"\n",
    "\n",
    "np.random.seed(1234)\n",
    "edf.clear_compgraph()\n",
    "xnode = edf.Input()\n",
    "ynode = edf.Input()\n",
    "nHiddens = 64\n",
    "Phi = MLPparams(nInputs, nHiddens, nLabels)\n",
    "probnode = MLPsigmoidgraph(Phi, xnode)\n",
    "lossnode = edf.LogLoss(probnode, ynode)"
   ]
  },
  {
   "cell_type": "code",
   "execution_count": 21,
   "metadata": {},
   "outputs": [],
   "source": [
    "\"\"\"the following functions are used to train the network.\n",
    "training is done by iterating over mini-batches of size 'batch_size'\n",
    "and updating the model's parameters with SGD\"\"\"\n",
    "\n",
    "def run_epoch(batch_size, data, labels, xnode, ynode, probnode, lossnode=None):\n",
    "    num_samples = len(data)\n",
    "    total_err = 0.0\n",
    "    num_batches = num_samples//batch_size\n",
    "    for i in range(num_batches):\n",
    "        start, end = i*batch_size, (i+1)*batch_size\n",
    "        xnode.value = train_images[start:end]\n",
    "        ynode.value = train_labels[start:end]\n",
    "        edf.Forward()\n",
    "        total_err += np.sum(np.not_equal(np.argmax(probnode.value, axis=1), ynode.value))\n",
    "        if lossnode:\n",
    "            edf.Backward(lossnode)\n",
    "            edf.SGD()\n",
    "        if i>0 and i%400 == 0:\n",
    "            print (\"\\t Batch {}/{}\".format(i, num_batches))\n",
    "    return 100*total_err/num_samples\n",
    "\n",
    "def train(num_epochs, batch_size, xnode, ynode, probnode, lossnode):\n",
    "    train_err_log = []\n",
    "    test_err_log = []\n",
    "    for epoch in range(num_epochs):\n",
    "        print(\"Epoch: {}/{}\".format(epoch+1, num_epochs))\n",
    "        train_err = run_epoch(batch_size, train_images, train_labels, xnode, ynode, probnode, lossnode)\n",
    "        train_err_log.append(train_err)\n",
    "        print (\"\\t Training Error {:.2f} %\".format(train_err))\n",
    "        test_err = run_epoch(len(test_images), test_images, test_labels, xnode, ynode, probnode)\n",
    "        test_err_log.append(test_err)\n",
    "        print (\"\\t Test Error {:.2f} %\".format(test_err))\n",
    "    return train_err_log, test_err_log"
   ]
  },
  {
   "cell_type": "code",
   "execution_count": 22,
   "metadata": {},
   "outputs": [
    {
     "name": "stdout",
     "output_type": "stream",
     "text": [
      "Epoch: 1/10\n",
      "\t Batch 400/937\n",
      "\t Batch 800/937\n",
      "\t Training Error 11.51 %\n",
      "\t Test Error 7.89 %\n",
      "Epoch: 2/10\n",
      "\t Batch 400/937\n",
      "\t Batch 800/937\n",
      "\t Training Error 6.37 %\n",
      "\t Test Error 5.77 %\n",
      "Epoch: 3/10\n",
      "\t Batch 400/937\n",
      "\t Batch 800/937\n",
      "\t Training Error 5.00 %\n",
      "\t Test Error 4.56 %\n",
      "Epoch: 4/10\n",
      "\t Batch 400/937\n",
      "\t Batch 800/937\n",
      "\t Training Error 4.10 %\n",
      "\t Test Error 3.78 %\n",
      "Epoch: 5/10\n",
      "\t Batch 400/937\n",
      "\t Batch 800/937\n",
      "\t Training Error 3.49 %\n",
      "\t Test Error 3.25 %\n",
      "Epoch: 6/10\n",
      "\t Batch 400/937\n",
      "\t Batch 800/937\n",
      "\t Training Error 3.09 %\n",
      "\t Test Error 2.85 %\n",
      "Epoch: 7/10\n",
      "\t Batch 400/937\n",
      "\t Batch 800/937\n",
      "\t Training Error 2.78 %\n",
      "\t Test Error 2.60 %\n",
      "Epoch: 8/10\n",
      "\t Batch 400/937\n",
      "\t Batch 800/937\n",
      "\t Training Error 2.49 %\n",
      "\t Test Error 2.35 %\n",
      "Epoch: 9/10\n",
      "\t Batch 400/937\n",
      "\t Batch 800/937\n",
      "\t Training Error 2.24 %\n",
      "\t Test Error 2.20 %\n",
      "Epoch: 10/10\n",
      "\t Batch 400/937\n",
      "\t Batch 800/937\n",
      "\t Training Error 2.01 %\n",
      "\t Test Error 2.06 %\n"
     ]
    }
   ],
   "source": [
    "\"\"\"now, we are ready to train the network. we can choose SGD's learning rate\n",
    "by changing edf.learning_rate, which we will set as 0.5 for now.\"\"\"\n",
    "\n",
    "num_epochs = 10\n",
    "batch_size = 64\n",
    "edf.learning_rate = 0.5\n",
    "train_err_log, test_err_log = train(num_epochs, batch_size, xnode, ynode, probnode, lossnode)"
   ]
  },
  {
   "cell_type": "code",
   "execution_count": 23,
   "metadata": {},
   "outputs": [
    {
     "data": {
      "image/png": "[encoded data removed]",
      "text/plain": [
       "<Figure size 432x288 with 1 Axes>"
      ]
     },
     "metadata": {
      "needs_background": "light"
     },
     "output_type": "display_data"
    },
    {
     "data": {
      "text/plain": [
       "<Figure size 432x288 with 0 Axes>"
      ]
     },
     "metadata": {},
     "output_type": "display_data"
    }
   ],
   "source": [
    "\"\"\"we can then plot the error per epoch on the training and test data\"\"\"\n",
    "\n",
    "plt.xlabel(\"epochs\")\n",
    "plt.ylabel(\"error (%)\")\n",
    "plt.plot(np.arange(len(test_err_log)), test_err_log, color='red')\n",
    "plt.plot(np.arange(len(train_err_log)), train_err_log, color='blue')\n",
    "plt.legend(['test error', 'train error'], loc='upper right')\n",
    "plt.show()\n",
    "plt.clf()"
   ]
  },
  {
   "cell_type": "code",
   "execution_count": 24,
   "metadata": {},
   "outputs": [],
   "source": [
    "\"\"\"next, you have to implement a ReLU activation function ReLU(x) = max(0,x).\n",
    "implement the forward and backward methods of the following class. use the\n",
    "provided EDF source code to understand what each method should do. note that\n",
    "since ReLU has no parameters, it might be helpful to base your implementation\n",
    "on how the Sigmoid EDF CompNode is implemented.\"\"\"\n",
    "\n",
    "class ReLU(edf.CompNode):\n",
    "    def __init__(self, x):\n",
    "        edf.CompNodes.append(self)\n",
    "        self.x = x\n",
    "\n",
    "    def forward(self):\n",
    "\n",
    "        bounded = np.maximum(-10,np.minimum(10,self.x.value)) #blocks numerical warnings\n",
    "        self.value = np.maximum(0, self.x.value)\n",
    "\n",
    "    def backward(self):\n",
    "\n",
    "        f = np.greater(self.value,0).astype(int)\n",
    "        self.x.addgrad(self.grad*f)"
   ]
  },
  {
   "cell_type": "code",
   "execution_count": 25,
   "metadata": {},
   "outputs": [
    {
     "data": {
      "image/png": "[encoded data removed]",
      "text/plain": [
       "<Figure size 432x288 with 1 Axes>"
      ]
     },
     "metadata": {
      "needs_background": "light"
     },
     "output_type": "display_data"
    },
    {
     "data": {
      "text/plain": [
       "<Figure size 432x288 with 0 Axes>"
      ]
     },
     "metadata": {},
     "output_type": "display_data"
    }
   ],
   "source": [
    "\"\"\"the code below will plot the output and gradients computed by your\n",
    "implementation of the ReLU component above. check if the plots match\n",
    "ReLU(x) and dReLU/dx(x) as a sanity test of your implementation.\"\"\"\n",
    "\n",
    "values = np.linspace(-2,2,100)\n",
    "edf.clear_compgraph()\n",
    "param = edf.Parameter(values[None, :])\n",
    "output = ReLU(param)\n",
    "\n",
    "edf.Forward()\n",
    "edf.Backward(output)\n",
    "\n",
    "plt.xlabel(\"value\")\n",
    "plt.plot(values, output.value[0], color='red')\n",
    "plt.plot(values, param.grad[0], color='blue')\n",
    "plt.legend(['output', 'grad'], loc='upper left')\n",
    "plt.show()\n",
    "plt.clf()"
   ]
  },
  {
   "cell_type": "code",
   "execution_count": 26,
   "metadata": {},
   "outputs": [],
   "source": [
    "\"\"\"now, train the same network as before but with a ReLU activation\n",
    "in the hidden layer instead of a Sigmoid.\"\"\"\n",
    "\n",
    "def MLPrelugraph(Phi, x):\n",
    "    h = ReLU(edf.Affine(Phi.first, x))\n",
    "    return edf.Softmax(edf.Affine(Phi.last, h))\n",
    "\n",
    "np.random.seed(1234)\n",
    "edf.clear_compgraph()\n",
    "xnode = edf.Input()\n",
    "ynode = edf.Input()\n",
    "nHiddens = 64\n",
    "Phi = MLPparams(nInputs, nHiddens, nLabels)\n",
    "probnode = MLPrelugraph(Phi, xnode)\n",
    "lossnode = edf.LogLoss(probnode, ynode)"
   ]
  },
  {
   "cell_type": "code",
   "execution_count": 27,
   "metadata": {},
   "outputs": [
    {
     "name": "stdout",
     "output_type": "stream",
     "text": [
      "Epoch: 1/10\n",
      "\t Batch 400/937\n",
      "\t Batch 800/937\n",
      "\t Training Error 7.99 %\n",
      "\t Test Error 6.50 %\n",
      "Epoch: 2/10\n",
      "\t Batch 400/937\n",
      "\t Batch 800/937\n",
      "\t Training Error 3.70 %\n",
      "\t Test Error 4.08 %\n",
      "Epoch: 3/10\n",
      "\t Batch 400/937\n",
      "\t Batch 800/937\n",
      "\t Training Error 2.72 %\n",
      "\t Test Error 2.79 %\n",
      "Epoch: 4/10\n",
      "\t Batch 400/937\n",
      "\t Batch 800/937\n",
      "\t Training Error 2.16 %\n",
      "\t Test Error 2.49 %\n",
      "Epoch: 5/10\n",
      "\t Batch 400/937\n",
      "\t Batch 800/937\n",
      "\t Training Error 1.79 %\n",
      "\t Test Error 2.12 %\n",
      "Epoch: 6/10\n",
      "\t Batch 400/937\n",
      "\t Batch 800/937\n",
      "\t Training Error 1.50 %\n",
      "\t Test Error 2.00 %\n",
      "Epoch: 7/10\n",
      "\t Batch 400/937\n",
      "\t Batch 800/937\n",
      "\t Training Error 1.36 %\n",
      "\t Test Error 2.20 %\n",
      "Epoch: 8/10\n",
      "\t Batch 400/937\n",
      "\t Batch 800/937\n",
      "\t Training Error 1.10 %\n",
      "\t Test Error 1.88 %\n",
      "Epoch: 9/10\n",
      "\t Batch 400/937\n",
      "\t Batch 800/937\n",
      "\t Training Error 0.99 %\n",
      "\t Test Error 1.57 %\n",
      "Epoch: 10/10\n",
      "\t Batch 400/937\n",
      "\t Batch 800/937\n",
      "\t Training Error 0.85 %\n",
      "\t Test Error 1.31 %\n"
     ]
    }
   ],
   "source": [
    "num_epochs = 10\n",
    "batch_size = 64\n",
    "edf.learning_rate = 0.5\n",
    "train_err_log, test_err_log = train(num_epochs, batch_size, xnode, ynode, probnode, lossnode)"
   ]
  },
  {
   "cell_type": "code",
   "execution_count": 28,
   "metadata": {},
   "outputs": [
    {
     "data": {
      "image/png": "[encoded data removed]",
      "text/plain": [
       "<Figure size 432x288 with 1 Axes>"
      ]
     },
     "metadata": {
      "needs_background": "light"
     },
     "output_type": "display_data"
    },
    {
     "data": {
      "text/plain": [
       "<Figure size 432x288 with 0 Axes>"
      ]
     },
     "metadata": {},
     "output_type": "display_data"
    }
   ],
   "source": [
    "plt.xlabel(\"epochs\")\n",
    "plt.ylabel(\"error (%)\")\n",
    "plt.plot(np.arange(len(test_err_log)), test_err_log, color='red')\n",
    "plt.plot(np.arange(len(train_err_log)), train_err_log, color='blue')\n",
    "plt.legend(['test error', 'train error'], loc='upper right')\n",
    "plt.show()\n",
    "plt.clf()"
   ]
  },
  {
   "cell_type": "code",
   "execution_count": 29,
   "metadata": {},
   "outputs": [],
   "source": [
    "\"\"\"now, implement the Tanh activation function by filling the missing\n",
    "code in the forward and backward methods below. it might be helpful to derive\n",
    "a relationship between Tanh and Sigmoid so that you can re-use parts of \n",
    "EDF's Sigmoid code.\"\"\"\n",
    "\n",
    "class Tanh(edf.CompNode):\n",
    "    def __init__(self, x):\n",
    "        edf.CompNodes.append(self)\n",
    "        self.x = x\n",
    "\n",
    "    def forward(self):\n",
    "        self.value = (np.exp(2*self.x.value)-1)/(np.exp(2*self.x.value)+1)\n",
    "\n",
    "    def backward(self):\n",
    "        self.x.addgrad(self.grad*(1-self.value*self.value))"
   ]
  },
  {
   "cell_type": "code",
   "execution_count": 30,
   "metadata": {},
   "outputs": [
    {
     "data": {
      "image/png": "[encoded data removed]",
      "text/plain": [
       "<Figure size 432x288 with 1 Axes>"
      ]
     },
     "metadata": {
      "needs_background": "light"
     },
     "output_type": "display_data"
    },
    {
     "data": {
      "text/plain": [
       "<Figure size 432x288 with 0 Axes>"
      ]
     },
     "metadata": {},
     "output_type": "display_data"
    }
   ],
   "source": [
    "\"\"\"again, make sure that the output and gradients plotted below are correct.\"\"\"\n",
    "\n",
    "values = np.linspace(-5,5,100)\n",
    "edf.clear_compgraph()\n",
    "param = edf.Parameter(values[None, :])\n",
    "output = Tanh(param)\n",
    "\n",
    "edf.Forward()\n",
    "edf.Backward(output)\n",
    "\n",
    "plt.xlabel(\"value\")\n",
    "plt.plot(values, output.value[0], color='red')\n",
    "plt.plot(values, param.grad[0], color='blue')\n",
    "plt.legend(['output', 'grad'], loc='upper left')\n",
    "plt.show()\n",
    "plt.clf()"
   ]
  },
  {
   "cell_type": "code",
   "execution_count": 31,
   "metadata": {},
   "outputs": [],
   "source": [
    "\"\"\"you can then train a network with a Tanh activation function instead\n",
    "of Sigmoid/ReLU.\"\"\"\n",
    "\n",
    "def MLPtanhgraph(Phi, x):\n",
    "    h = Tanh(edf.Affine(Phi.first, x))\n",
    "    return edf.Softmax(edf.Affine(Phi.last, h))\n",
    "\n",
    "np.random.seed(1234)\n",
    "edf.clear_compgraph()\n",
    "xnode = edf.Input()\n",
    "ynode = edf.Input()\n",
    "nHiddens = 64\n",
    "Phi = MLPparams(nInputs, nHiddens, nLabels)\n",
    "probnode = MLPtanhgraph(Phi, xnode)\n",
    "lossnode = edf.LogLoss(probnode, ynode)"
   ]
  },
  {
   "cell_type": "code",
   "execution_count": 32,
   "metadata": {},
   "outputs": [
    {
     "name": "stdout",
     "output_type": "stream",
     "text": [
      "Epoch: 1/10\n",
      "\t Batch 400/937\n",
      "\t Batch 800/937\n",
      "\t Training Error 8.29 %\n",
      "\t Test Error 6.01 %\n",
      "Epoch: 2/10\n",
      "\t Batch 400/937\n",
      "\t Batch 800/937\n",
      "\t Training Error 4.21 %\n",
      "\t Test Error 4.13 %\n",
      "Epoch: 3/10\n",
      "\t Batch 400/937\n",
      "\t Batch 800/937\n",
      "\t Training Error 3.05 %\n",
      "\t Test Error 2.93 %\n",
      "Epoch: 4/10\n",
      "\t Batch 400/937\n",
      "\t Batch 800/937\n",
      "\t Training Error 2.38 %\n",
      "\t Test Error 2.26 %\n",
      "Epoch: 5/10\n",
      "\t Batch 400/937\n",
      "\t Batch 800/937\n",
      "\t Training Error 1.95 %\n",
      "\t Test Error 1.82 %\n",
      "Epoch: 6/10\n",
      "\t Batch 400/937\n",
      "\t Batch 800/937\n",
      "\t Training Error 1.60 %\n",
      "\t Test Error 1.60 %\n",
      "Epoch: 7/10\n",
      "\t Batch 400/937\n",
      "\t Batch 800/937\n",
      "\t Training Error 1.31 %\n",
      "\t Test Error 1.41 %\n",
      "Epoch: 8/10\n",
      "\t Batch 400/937\n",
      "\t Batch 800/937\n",
      "\t Training Error 1.07 %\n",
      "\t Test Error 1.28 %\n",
      "Epoch: 9/10\n",
      "\t Batch 400/937\n",
      "\t Batch 800/937\n",
      "\t Training Error 0.84 %\n",
      "\t Test Error 1.20 %\n",
      "Epoch: 10/10\n",
      "\t Batch 400/937\n",
      "\t Batch 800/937\n",
      "\t Training Error 0.66 %\n",
      "\t Test Error 1.21 %\n"
     ]
    }
   ],
   "source": [
    "num_epochs = 10\n",
    "batch_size = 64\n",
    "edf.learning_rate = 0.5\n",
    "train_err_log, test_err_log = train(num_epochs, batch_size, xnode, ynode, probnode, lossnode)"
   ]
  },
  {
   "cell_type": "code",
   "execution_count": 33,
   "metadata": {},
   "outputs": [
    {
     "data": {
      "image/png": "[encoded data removed]",
      "text/plain": [
       "<Figure size 432x288 with 1 Axes>"
      ]
     },
     "metadata": {
      "needs_background": "light"
     },
     "output_type": "display_data"
    },
    {
     "data": {
      "text/plain": [
       "<Figure size 432x288 with 0 Axes>"
      ]
     },
     "metadata": {},
     "output_type": "display_data"
    }
   ],
   "source": [
    "plt.xlabel(\"epochs\")\n",
    "plt.ylabel(\"error (%)\")\n",
    "plt.plot(np.arange(len(test_err_log)), test_err_log, color='red')\n",
    "plt.plot(np.arange(len(train_err_log)), train_err_log, color='blue')\n",
    "plt.legend(['test error', 'train error'], loc='upper right')\n",
    "plt.show()\n",
    "plt.clf()"
   ]
  },
  {
   "cell_type": "code",
   "execution_count": 34,
   "metadata": {},
   "outputs": [
    {
     "name": "stdout",
     "output_type": "stream",
     "text": [
      "Epoch: 1/10\n",
      "\t Batch 400/937\n",
      "\t Batch 800/937\n",
      "\t Training Error 11.90 %\n",
      "\t Test Error 7.51 %\n",
      "Epoch: 2/10\n",
      "\t Batch 400/937\n",
      "\t Batch 800/937\n",
      "\t Training Error 5.98 %\n",
      "\t Test Error 6.27 %\n",
      "Epoch: 3/10\n",
      "\t Batch 400/937\n",
      "\t Batch 800/937\n",
      "\t Training Error 5.00 %\n",
      "\t Test Error 5.59 %\n",
      "Epoch: 4/10\n",
      "\t Batch 400/937\n",
      "\t Batch 800/937\n",
      "\t Training Error 4.41 %\n",
      "\t Test Error 4.72 %\n",
      "Epoch: 5/10\n",
      "\t Batch 400/937\n",
      "\t Batch 800/937\n",
      "\t Training Error 3.87 %\n",
      "\t Test Error 4.53 %\n",
      "Epoch: 6/10\n",
      "\t Batch 400/937\n",
      "\t Batch 800/937\n",
      "\t Training Error 3.67 %\n",
      "\t Test Error 4.04 %\n",
      "Epoch: 7/10\n",
      "\t Batch 400/937\n",
      "\t Batch 800/937\n",
      "\t Training Error 3.23 %\n",
      "\t Test Error 3.97 %\n",
      "Epoch: 8/10\n",
      "\t Batch 400/937\n",
      "\t Batch 800/937\n",
      "\t Training Error 3.15 %\n",
      "\t Test Error 3.81 %\n",
      "Epoch: 9/10\n",
      "\t Batch 400/937\n",
      "\t Batch 800/937\n",
      "\t Training Error 3.03 %\n",
      "\t Test Error 3.19 %\n",
      "Epoch: 10/10\n",
      "\t Batch 400/937\n",
      "\t Batch 800/937\n",
      "\t Training Error 2.85 %\n",
      "\t Test Error 3.26 %\n",
      "Epoch: 1/10\n",
      "\t Batch 400/937\n",
      "\t Batch 800/937\n",
      "\t Training Error 10.08 %\n",
      "\t Test Error 6.81 %\n",
      "Epoch: 2/10\n",
      "\t Batch 400/937\n",
      "\t Batch 800/937\n",
      "\t Training Error 4.96 %\n",
      "\t Test Error 4.68 %\n",
      "Epoch: 3/10\n",
      "\t Batch 400/937\n",
      "\t Batch 800/937\n",
      "\t Training Error 3.71 %\n",
      "\t Test Error 3.51 %\n",
      "Epoch: 4/10\n",
      "\t Batch 400/937\n",
      "\t Batch 800/937\n",
      "\t Training Error 2.98 %\n",
      "\t Test Error 2.86 %\n",
      "Epoch: 5/10\n",
      "\t Batch 400/937\n",
      "\t Batch 800/937\n",
      "\t Training Error 2.51 %\n",
      "\t Test Error 2.39 %\n",
      "Epoch: 6/10\n",
      "\t Batch 400/937\n",
      "\t Batch 800/937\n",
      "\t Training Error 2.15 %\n",
      "\t Test Error 2.11 %\n",
      "Epoch: 7/10\n",
      "\t Batch 400/937\n",
      "\t Batch 800/937\n",
      "\t Training Error 1.86 %\n",
      "\t Test Error 1.92 %\n",
      "Epoch: 8/10\n",
      "\t Batch 400/937\n",
      "\t Batch 800/937\n",
      "\t Training Error 1.62 %\n",
      "\t Test Error 1.78 %\n",
      "Epoch: 9/10\n",
      "\t Batch 400/937\n",
      "\t Batch 800/937\n",
      "\t Training Error 1.42 %\n",
      "\t Test Error 1.67 %\n",
      "Epoch: 10/10\n",
      "\t Batch 400/937\n",
      "\t Batch 800/937\n",
      "\t Training Error 1.25 %\n",
      "\t Test Error 1.50 %\n",
      "Epoch: 1/10\n",
      "\t Batch 400/937\n",
      "\t Batch 800/937\n",
      "\t Training Error 11.51 %\n",
      "\t Test Error 7.89 %\n",
      "Epoch: 2/10\n",
      "\t Batch 400/937\n",
      "\t Batch 800/937\n",
      "\t Training Error 6.37 %\n",
      "\t Test Error 5.77 %\n",
      "Epoch: 3/10\n",
      "\t Batch 400/937\n",
      "\t Batch 800/937\n",
      "\t Training Error 5.00 %\n",
      "\t Test Error 4.56 %\n",
      "Epoch: 4/10\n",
      "\t Batch 400/937\n",
      "\t Batch 800/937\n",
      "\t Training Error 4.10 %\n",
      "\t Test Error 3.78 %\n",
      "Epoch: 5/10\n",
      "\t Batch 400/937\n",
      "\t Batch 800/937\n",
      "\t Training Error 3.49 %\n",
      "\t Test Error 3.25 %\n",
      "Epoch: 6/10\n",
      "\t Batch 400/937\n",
      "\t Batch 800/937\n",
      "\t Training Error 3.09 %\n",
      "\t Test Error 2.85 %\n",
      "Epoch: 7/10\n",
      "\t Batch 400/937\n",
      "\t Batch 800/937\n",
      "\t Training Error 2.78 %\n",
      "\t Test Error 2.60 %\n",
      "Epoch: 8/10\n",
      "\t Batch 400/937\n",
      "\t Batch 800/937\n",
      "\t Training Error 2.49 %\n",
      "\t Test Error 2.35 %\n",
      "Epoch: 9/10\n",
      "\t Batch 400/937\n",
      "\t Batch 800/937\n",
      "\t Training Error 2.24 %\n",
      "\t Test Error 2.20 %\n",
      "Epoch: 10/10\n",
      "\t Batch 400/937\n",
      "\t Batch 800/937\n",
      "\t Training Error 2.01 %\n",
      "\t Test Error 2.06 %\n",
      "Epoch: 1/10\n",
      "\t Batch 400/937\n",
      "\t Batch 800/937\n",
      "\t Training Error 18.05 %\n",
      "\t Test Error 11.01 %\n",
      "Epoch: 2/10\n",
      "\t Batch 400/937\n",
      "\t Batch 800/937\n",
      "\t Training Error 9.90 %\n",
      "\t Test Error 9.09 %\n",
      "Epoch: 3/10\n",
      "\t Batch 400/937\n",
      "\t Batch 800/937\n",
      "\t Training Error 8.65 %\n",
      "\t Test Error 7.99 %\n",
      "Epoch: 4/10\n",
      "\t Batch 400/937\n",
      "\t Batch 800/937\n",
      "\t Training Error 7.83 %\n",
      "\t Test Error 7.26 %\n",
      "Epoch: 5/10\n",
      "\t Batch 400/937\n",
      "\t Batch 800/937\n",
      "\t Training Error 7.27 %\n",
      "\t Test Error 6.65 %\n",
      "Epoch: 6/10\n",
      "\t Batch 400/937\n",
      "\t Batch 800/937\n",
      "\t Training Error 6.74 %\n",
      "\t Test Error 6.25 %\n",
      "Epoch: 7/10\n",
      "\t Batch 400/937\n",
      "\t Batch 800/937\n",
      "\t Training Error 6.29 %\n",
      "\t Test Error 5.84 %\n",
      "Epoch: 8/10\n",
      "\t Batch 400/937\n",
      "\t Batch 800/937\n",
      "\t Training Error 5.92 %\n",
      "\t Test Error 5.51 %\n",
      "Epoch: 9/10\n",
      "\t Batch 400/937\n",
      "\t Batch 800/937\n",
      "\t Training Error 5.60 %\n",
      "\t Test Error 5.21 %\n",
      "Epoch: 10/10\n",
      "\t Batch 400/937\n",
      "\t Batch 800/937\n",
      "\t Training Error 5.29 %\n",
      "\t Test Error 4.94 %\n"
     ]
    }
   ],
   "source": [
    "\"\"\"next, let's check how changing the learning rate affects\n",
    "the model's train and test error. you should implement a way\n",
    "to collect the network's final train/test errors for each of\n",
    "the learning rates in the array below. you should do this for\n",
    "MLPs with sigmoid and relu activations, and select the best\n",
    "learning rate for each of the two networks (w/ sigmoid \n",
    "and w/ relu activations)\"\"\"\n",
    "\n",
    "\"\"\"add code below to train MLPs with sigmoid activations.\n",
    "your code should populate the arrays train_err_per_lr and\n",
    "test_err_per_lr, such that they contain the train and test\n",
    "errors of models trained with each learning rate in the\n",
    "learning_rates arrays, i.e. train_err_per_lr[1] should contain\n",
    "the final train error of a sigmoid MLP trained with a learning\n",
    "rate of 1.0\"\"\"\n",
    "\n",
    "num_epochs = 5\n",
    "batch_size = 64\n",
    "learning_rates = [5.0, 1.0, 0.5, 0.1]\n",
    "\n",
    "sig_train_err_per_lr = []\n",
    "sig_test_err_per_lr = []\n",
    "\n",
    "for lr in learning_rates:\n",
    "    \n",
    "    np.random.seed(1234)\n",
    "    edf.clear_compgraph()\n",
    "    xnode = edf.Input()\n",
    "    ynode = edf.Input()\n",
    "    nHiddens = 64\n",
    "    Phi = MLPparams(nInputs, nHiddens, nLabels)\n",
    "    probnode = MLPsigmoidgraph(Phi, xnode)\n",
    "    lossnode = edf.LogLoss(probnode, ynode)\n",
    "\n",
    "    num_epochs = 10\n",
    "    batch_size = 64\n",
    "    edf.learning_rate = lr\n",
    "    train_err_log, test_err_log = \\\n",
    "    train(num_epochs, batch_size, xnode, ynode, probnode, lossnode)\n",
    "    \n",
    "    sig_train_err_per_lr.append(train_err_log)\n",
    "    sig_test_err_per_lr.append(test_err_log)\n",
    "    "
   ]
  },
  {
   "cell_type": "code",
   "execution_count": 35,
   "metadata": {},
   "outputs": [
    {
     "name": "stdout",
     "output_type": "stream",
     "text": [
      "Optimum sigmoid lr: 1.0\n"
     ]
    }
   ],
   "source": [
    "sig_train_err_per_lr = np.array(sig_train_err_per_lr)\n",
    "sig_test_err_per_lr = np.array(sig_test_err_per_lr)\n",
    "best_sigmoid_lr = learning_rates[np.argmin(sig_test_err_per_lr[:,-1])]\n",
    "print('Optimum sigmoid lr: %s' % str(best_sigmoid_lr))"
   ]
  },
  {
   "cell_type": "code",
   "execution_count": 36,
   "metadata": {},
   "outputs": [
    {
     "data": {
      "image/png": "[encoded data removed]",
      "text/plain": [
       "<Figure size 432x288 with 1 Axes>"
      ]
     },
     "metadata": {
      "needs_background": "light"
     },
     "output_type": "display_data"
    },
    {
     "data": {
      "text/plain": [
       "<Figure size 432x288 with 0 Axes>"
      ]
     },
     "metadata": {},
     "output_type": "display_data"
    }
   ],
   "source": [
    "plt.xlabel(\"learning rate\")\n",
    "plt.ylabel(\"error (%)\")\n",
    "plt.plot(learning_rates, sig_test_err_per_lr[:,-1], color='red')\n",
    "plt.plot(learning_rates, sig_train_err_per_lr[:,-1], color='blue')\n",
    "plt.legend(['test error', 'train error'], loc='upper right')\n",
    "plt.show()\n",
    "plt.clf()"
   ]
  },
  {
   "cell_type": "code",
   "execution_count": 37,
   "metadata": {},
   "outputs": [
    {
     "name": "stdout",
     "output_type": "stream",
     "text": [
      "Epoch: 1/10\n",
      "\t Batch 400/937\n",
      "\t Batch 800/937\n",
      "\t Training Error 90.10 %\n",
      "\t Test Error 90.20 %\n",
      "Epoch: 2/10\n",
      "\t Batch 400/937\n",
      "\t Batch 800/937\n",
      "\t Training Error 90.27 %\n",
      "\t Test Error 90.20 %\n",
      "Epoch: 3/10\n",
      "\t Batch 400/937\n",
      "\t Batch 800/937\n",
      "\t Training Error 90.27 %\n",
      "\t Test Error 90.20 %\n",
      "Epoch: 4/10\n",
      "\t Batch 400/937\n",
      "\t Batch 800/937\n",
      "\t Training Error 90.27 %\n",
      "\t Test Error 90.20 %\n",
      "Epoch: 5/10\n",
      "\t Batch 400/937\n",
      "\t Batch 800/937\n",
      "\t Training Error 90.27 %\n",
      "\t Test Error 90.20 %\n",
      "Epoch: 6/10\n",
      "\t Batch 400/937\n",
      "\t Batch 800/937\n",
      "\t Training Error 90.27 %\n",
      "\t Test Error 90.20 %\n",
      "Epoch: 7/10\n",
      "\t Batch 400/937\n",
      "\t Batch 800/937\n",
      "\t Training Error 90.27 %\n",
      "\t Test Error 90.20 %\n",
      "Epoch: 8/10\n",
      "\t Batch 400/937\n",
      "\t Batch 800/937\n",
      "\t Training Error 90.27 %\n",
      "\t Test Error 90.20 %\n",
      "Epoch: 9/10\n",
      "\t Batch 400/937\n",
      "\t Batch 800/937\n",
      "\t Training Error 90.27 %\n",
      "\t Test Error 90.20 %\n",
      "Epoch: 10/10\n",
      "\t Batch 400/937\n",
      "\t Batch 800/937\n",
      "\t Training Error 90.27 %\n",
      "\t Test Error 90.20 %\n",
      "Epoch: 1/10\n",
      "\t Batch 400/937\n",
      "\t Batch 800/937\n",
      "\t Training Error 29.75 %\n",
      "\t Test Error 23.81 %\n",
      "Epoch: 2/10\n",
      "\t Batch 400/937\n",
      "\t Batch 800/937\n",
      "\t Training Error 9.58 %\n",
      "\t Test Error 10.87 %\n",
      "Epoch: 3/10\n",
      "\t Batch 400/937\n",
      "\t Batch 800/937\n",
      "\t Training Error 8.03 %\n",
      "\t Test Error 10.19 %\n",
      "Epoch: 4/10\n",
      "\t Batch 400/937\n",
      "\t Batch 800/937\n",
      "\t Training Error 7.45 %\n",
      "\t Test Error 9.74 %\n",
      "Epoch: 5/10\n",
      "\t Batch 400/937\n",
      "\t Batch 800/937\n",
      "\t Training Error 7.13 %\n",
      "\t Test Error 9.67 %\n",
      "Epoch: 6/10\n",
      "\t Batch 400/937\n",
      "\t Batch 800/937\n",
      "\t Training Error 6.55 %\n",
      "\t Test Error 7.29 %\n",
      "Epoch: 7/10\n",
      "\t Batch 400/937\n",
      "\t Batch 800/937\n",
      "\t Training Error 6.42 %\n",
      "\t Test Error 6.97 %\n",
      "Epoch: 8/10\n",
      "\t Batch 400/937\n",
      "\t Batch 800/937\n",
      "\t Training Error 6.20 %\n",
      "\t Test Error 6.50 %\n",
      "Epoch: 9/10\n",
      "\t Batch 400/937\n",
      "\t Batch 800/937\n",
      "\t Training Error 5.93 %\n",
      "\t Test Error 7.27 %\n",
      "Epoch: 10/10\n",
      "\t Batch 400/937\n",
      "\t Batch 800/937\n",
      "\t Training Error 5.53 %\n",
      "\t Test Error 6.06 %\n",
      "Epoch: 1/10\n",
      "\t Batch 400/937\n",
      "\t Batch 800/937\n",
      "\t Training Error 7.99 %\n",
      "\t Test Error 6.50 %\n",
      "Epoch: 2/10\n",
      "\t Batch 400/937\n",
      "\t Batch 800/937\n",
      "\t Training Error 3.70 %\n",
      "\t Test Error 4.08 %\n",
      "Epoch: 3/10\n",
      "\t Batch 400/937\n",
      "\t Batch 800/937\n",
      "\t Training Error 2.72 %\n",
      "\t Test Error 2.79 %\n",
      "Epoch: 4/10\n",
      "\t Batch 400/937\n",
      "\t Batch 800/937\n",
      "\t Training Error 2.16 %\n",
      "\t Test Error 2.49 %\n",
      "Epoch: 5/10\n",
      "\t Batch 400/937\n",
      "\t Batch 800/937\n",
      "\t Training Error 1.79 %\n",
      "\t Test Error 2.12 %\n",
      "Epoch: 6/10\n",
      "\t Batch 400/937\n",
      "\t Batch 800/937\n",
      "\t Training Error 1.50 %\n",
      "\t Test Error 2.00 %\n",
      "Epoch: 7/10\n",
      "\t Batch 400/937\n",
      "\t Batch 800/937\n",
      "\t Training Error 1.36 %\n",
      "\t Test Error 2.20 %\n",
      "Epoch: 8/10\n",
      "\t Batch 400/937\n",
      "\t Batch 800/937\n",
      "\t Training Error 1.10 %\n",
      "\t Test Error 1.88 %\n",
      "Epoch: 9/10\n",
      "\t Batch 400/937\n",
      "\t Batch 800/937\n",
      "\t Training Error 0.99 %\n",
      "\t Test Error 1.57 %\n",
      "Epoch: 10/10\n",
      "\t Batch 400/937\n",
      "\t Batch 800/937\n",
      "\t Training Error 0.85 %\n",
      "\t Test Error 1.31 %\n",
      "Epoch: 1/10\n",
      "\t Batch 400/937\n",
      "\t Batch 800/937\n",
      "\t Training Error 10.76 %\n",
      "\t Test Error 7.64 %\n",
      "Epoch: 2/10\n",
      "\t Batch 400/937\n",
      "\t Batch 800/937\n",
      "\t Training Error 6.16 %\n",
      "\t Test Error 5.49 %\n",
      "Epoch: 3/10\n",
      "\t Batch 400/937\n",
      "\t Batch 800/937\n",
      "\t Training Error 4.77 %\n",
      "\t Test Error 4.26 %\n",
      "Epoch: 4/10\n",
      "\t Batch 400/937\n",
      "\t Batch 800/937\n",
      "\t Training Error 3.88 %\n",
      "\t Test Error 3.53 %\n",
      "Epoch: 5/10\n",
      "\t Batch 400/937\n",
      "\t Batch 800/937\n",
      "\t Training Error 3.28 %\n",
      "\t Test Error 3.13 %\n",
      "Epoch: 6/10\n",
      "\t Batch 400/937\n",
      "\t Batch 800/937\n",
      "\t Training Error 2.90 %\n",
      "\t Test Error 2.85 %\n",
      "Epoch: 7/10\n",
      "\t Batch 400/937\n",
      "\t Batch 800/937\n",
      "\t Training Error 2.53 %\n",
      "\t Test Error 2.57 %\n",
      "Epoch: 8/10\n",
      "\t Batch 400/937\n",
      "\t Batch 800/937\n",
      "\t Training Error 2.27 %\n",
      "\t Test Error 2.37 %\n",
      "Epoch: 9/10\n",
      "\t Batch 400/937\n",
      "\t Batch 800/937\n",
      "\t Training Error 2.06 %\n",
      "\t Test Error 2.12 %\n",
      "Epoch: 10/10\n",
      "\t Batch 400/937\n",
      "\t Batch 800/937\n",
      "\t Training Error 1.88 %\n",
      "\t Test Error 1.96 %\n"
     ]
    }
   ],
   "source": [
    "\"\"\"now, repeat the experiment above but with a MLP with\n",
    "a ReLU activation functions in the hidden layer\"\"\"\n",
    "\n",
    "relu_train_err_per_lr = []\n",
    "relu_test_err_per_lr = []\n",
    "\n",
    "for lr in learning_rates:\n",
    "    \n",
    "    np.random.seed(1234)\n",
    "    edf.clear_compgraph()\n",
    "    xnode = edf.Input()\n",
    "    ynode = edf.Input()\n",
    "    nHiddens = 64\n",
    "    Phi = MLPparams(nInputs, nHiddens, nLabels)\n",
    "    probnode = MLPrelugraph(Phi, xnode)\n",
    "    lossnode = edf.LogLoss(probnode, ynode)\n",
    "\n",
    "    num_epochs = 10\n",
    "    batch_size = 64\n",
    "    edf.learning_rate = lr\n",
    "    train_err_log, test_err_log = \\\n",
    "    train(num_epochs, batch_size, xnode, ynode, probnode, lossnode)\n",
    "    \n",
    "    relu_train_err_per_lr.append(train_err_log)\n",
    "    relu_test_err_per_lr.append(test_err_log)"
   ]
  },
  {
   "cell_type": "code",
   "execution_count": 38,
   "metadata": {},
   "outputs": [
    {
     "name": "stdout",
     "output_type": "stream",
     "text": [
      "Optimum relu lr: 0.5\n"
     ]
    }
   ],
   "source": [
    "relu_train_err_per_lr = np.array(relu_train_err_per_lr)\n",
    "relu_test_err_per_lr = np.array(relu_test_err_per_lr)\n",
    "best_relu_lr = learning_rates[np.argmin(relu_test_err_per_lr[:,-1])]\n",
    "print('Optimum relu lr: %s' % str(best_relu_lr))"
   ]
  },
  {
   "cell_type": "code",
   "execution_count": 39,
   "metadata": {},
   "outputs": [
    {
     "data": {
      "image/png": "[encoded data removed]",
      "text/plain": [
       "<Figure size 432x288 with 1 Axes>"
      ]
     },
     "metadata": {
      "needs_background": "light"
     },
     "output_type": "display_data"
    },
    {
     "data": {
      "text/plain": [
       "<Figure size 432x288 with 0 Axes>"
      ]
     },
     "metadata": {},
     "output_type": "display_data"
    }
   ],
   "source": [
    "plt.xlabel(\"learning rate\")\n",
    "plt.ylabel(\"error (%)\")\n",
    "plt.plot(learning_rates, relu_test_err_per_lr[:,-1], color='red')\n",
    "plt.plot(learning_rates, relu_train_err_per_lr[:,-1], color='blue')\n",
    "plt.legend(['test error', 'train error'], loc='upper right')\n",
    "plt.show()\n",
    "plt.clf()"
   ]
  },
  {
   "cell_type": "code",
   "execution_count": 40,
   "metadata": {},
   "outputs": [],
   "source": [
    "\"\"\"finally, we will check how the number of hidden layers affects\n",
    "the model's performance. start by re-implementing MLPparams such that\n",
    "it supports multiple layers (note the new nLayers argument). each of the\n",
    "nLayers-1 hidden layers should have nHiddens neurons.\"\"\"\n",
    "\n",
    "class MLPparams(list):\n",
    "    def __init__(self,nInputs, nHiddens, nLabels, nLayers):\n",
    "\n",
    "        self.append(edf.AffineParams(nInputs,nHiddens))\n",
    "        for i in range(nLayers-2): self.append(edf.AffineParams(nHiddens,nHiddens))\n",
    "        self.append(edf.AffineParams(nHiddens,nLabels))\n",
    "        self = self.reverse()\n",
    "\n",
    "        \n",
    "\"\"\"you should also re-implement MLPrelugraph and MLPsigmoidgraph\n",
    "so that they both have support for multiple layers, following your\n",
    "re-implementation of MLPparams above.\"\"\"\n",
    "\n",
    "def MLPsigmoidgraph(Phi, x, max_len):\n",
    "\n",
    "    if len(Phi) == 0:\n",
    "        return x\n",
    "\n",
    "    if len(Phi) < max_len and len(Phi) > 0:\n",
    "        return edf.Sigmoid(edf.Affine(Phi[0],MLPsigmoidgraph(Phi[1:],x,max_len)))\n",
    "\n",
    "    else:\n",
    "        return edf.Softmax(edf.Affine(Phi[0],MLPsigmoidgraph(Phi[1:],x,max_len)))\n",
    "\n",
    "def MLPrelugraph(Phi, x, max_len):\n",
    "\n",
    "    if len(Phi) == 0:\n",
    "        return x\n",
    "\n",
    "    if len(Phi) < max_len and len(Phi) > 0:\n",
    "        return ReLU(edf.Affine(Phi[0],MLPrelugraph(Phi[1:],x,max_len)))\n",
    "\n",
    "    else:\n",
    "        return edf.Softmax(edf.Affine(Phi[0],MLPrelugraph(Phi[1:],x,max_len)))\n",
    "\n"
   ]
  },
  {
   "cell_type": "code",
   "execution_count": 41,
   "metadata": {},
   "outputs": [
    {
     "name": "stdout",
     "output_type": "stream",
     "text": [
      "Training sigmoid net @ depth=2\n",
      "Epoch: 1/5\n",
      "\t Batch 400/937\n",
      "\t Batch 800/937\n",
      "\t Training Error 10.08 %\n",
      "\t Test Error 6.81 %\n",
      "Epoch: 2/5\n",
      "\t Batch 400/937\n",
      "\t Batch 800/937\n",
      "\t Training Error 4.96 %\n",
      "\t Test Error 4.68 %\n",
      "Epoch: 3/5\n",
      "\t Batch 400/937\n",
      "\t Batch 800/937\n",
      "\t Training Error 3.71 %\n",
      "\t Test Error 3.51 %\n",
      "Epoch: 4/5\n",
      "\t Batch 400/937\n",
      "\t Batch 800/937\n",
      "\t Training Error 2.98 %\n",
      "\t Test Error 2.86 %\n",
      "Epoch: 5/5\n",
      "\t Batch 400/937\n",
      "\t Batch 800/937\n",
      "\t Training Error 2.51 %\n",
      "\t Test Error 2.39 %\n",
      "Training sigmoid net @ depth=4\n",
      "Epoch: 1/5\n",
      "\t Batch 400/937\n",
      "\t Batch 800/937\n",
      "\t Training Error 31.01 %\n",
      "\t Test Error 10.72 %\n",
      "Epoch: 2/5\n",
      "\t Batch 400/937\n",
      "\t Batch 800/937\n",
      "\t Training Error 6.33 %\n",
      "\t Test Error 6.49 %\n",
      "Epoch: 3/5\n",
      "\t Batch 400/937\n",
      "\t Batch 800/937\n",
      "\t Training Error 4.23 %\n",
      "\t Test Error 4.50 %\n",
      "Epoch: 4/5\n",
      "\t Batch 400/937\n",
      "\t Batch 800/937\n",
      "\t Training Error 3.29 %\n",
      "\t Test Error 3.35 %\n",
      "Epoch: 5/5\n",
      "\t Batch 400/937\n",
      "\t Batch 800/937\n",
      "\t Training Error 2.63 %\n",
      "\t Test Error 3.18 %\n",
      "Training sigmoid net @ depth=6\n",
      "Epoch: 1/5\n",
      "\t Batch 400/937\n",
      "\t Batch 800/937\n",
      "\t Training Error 89.81 %\n",
      "\t Test Error 89.30 %\n",
      "Epoch: 2/5\n",
      "\t Batch 400/937\n",
      "\t Batch 800/937\n",
      "\t Training Error 89.47 %\n",
      "\t Test Error 89.30 %\n",
      "Epoch: 3/5\n",
      "\t Batch 400/937\n",
      "\t Batch 800/937\n",
      "\t Training Error 89.40 %\n",
      "\t Test Error 89.30 %\n",
      "Epoch: 4/5\n",
      "\t Batch 400/937\n",
      "\t Batch 800/937\n",
      "\t Training Error 89.35 %\n",
      "\t Test Error 89.30 %\n",
      "Epoch: 5/5\n",
      "\t Batch 400/937\n",
      "\t Batch 800/937\n",
      "\t Training Error 89.33 %\n",
      "\t Test Error 89.30 %\n"
     ]
    }
   ],
   "source": [
    "\"\"\"similarly to the exploration with different learning rates,\n",
    "you will see how the depth of the network affects its performance,\n",
    "first for a sigmoid network. fill the missing code to populate\n",
    "train_err_per_depth and test_err_per_depth accordingly\"\"\"\n",
    "\n",
    "edf.learning_rate = best_sigmoid_lr\n",
    "num_epochs = 5\n",
    "batch_size = 64\n",
    "num_layers = [2, 4, 6]\n",
    "\n",
    "sig_train_err_per_depth = []\n",
    "sig_test_err_per_depth = []\n",
    "\n",
    "#Clear and initiate\n",
    "np.random.seed(1234)\n",
    "edf.clear_compgraph()\n",
    "xnode = edf.Input()\n",
    "ynode = edf.Input()\n",
    "\n",
    "#Loop over list of nLayers\n",
    "for i, n in enumerate(num_layers):\n",
    "    print('Training sigmoid net @ depth=%s' % str(n))\n",
    "\n",
    "    Phi = MLPparams(nInputs, nHiddens, nLabels, n)\n",
    "    probnode = MLPsigmoidgraph(Phi, xnode, len(Phi))\n",
    "    lossnode = edf.LogLoss(probnode, ynode)\n",
    "\n",
    "    train_err_log, test_err_log = \\\n",
    "    train(num_epochs, batch_size, xnode, ynode, probnode, lossnode)\n",
    "\n",
    "    sig_train_err_per_depth.append(train_err_log)\n",
    "    sig_test_err_per_depth.append(test_err_log)"
   ]
  },
  {
   "cell_type": "code",
   "execution_count": 42,
   "metadata": {},
   "outputs": [],
   "source": [
    "sig_train_err_per_depth = np.array(sig_train_err_per_depth)\n",
    "sig_test_err_per_depth = np.array(sig_test_err_per_depth)"
   ]
  },
  {
   "cell_type": "code",
   "execution_count": 43,
   "metadata": {},
   "outputs": [
    {
     "data": {
      "image/png": "[encoded data removed]",
      "text/plain": [
       "<Figure size 432x288 with 1 Axes>"
      ]
     },
     "metadata": {
      "needs_background": "light"
     },
     "output_type": "display_data"
    },
    {
     "data": {
      "text/plain": [
       "<Figure size 432x288 with 0 Axes>"
      ]
     },
     "metadata": {},
     "output_type": "display_data"
    }
   ],
   "source": [
    "plt.xlabel(\"depth\")\n",
    "plt.ylabel(\"error (%)\")\n",
    "plt.plot(num_layers, sig_test_err_per_depth[:,-1], color='red')\n",
    "plt.plot(num_layers, sig_train_err_per_depth[:,-1], color='blue')\n",
    "plt.legend(['test error', 'train error'], loc='upper right')\n",
    "plt.show()\n",
    "plt.clf()"
   ]
  },
  {
   "cell_type": "code",
   "execution_count": 44,
   "metadata": {},
   "outputs": [
    {
     "name": "stdout",
     "output_type": "stream",
     "text": [
      "Training relu net @ depth=3\n",
      "Epoch: 1/5\n",
      "\t Batch 400/937\n",
      "\t Batch 800/937\n",
      "\t Training Error 9.98 %\n",
      "\t Test Error 7.85 %\n",
      "Epoch: 2/5\n",
      "\t Batch 400/937\n",
      "\t Batch 800/937\n",
      "\t Training Error 4.30 %\n",
      "\t Test Error 4.85 %\n",
      "Epoch: 3/5\n",
      "\t Batch 400/937\n",
      "\t Batch 800/937\n",
      "\t Training Error 3.30 %\n",
      "\t Test Error 3.61 %\n",
      "Epoch: 4/5\n",
      "\t Batch 400/937\n",
      "\t Batch 800/937\n",
      "\t Training Error 2.65 %\n",
      "\t Test Error 3.08 %\n",
      "Epoch: 5/5\n",
      "\t Batch 400/937\n",
      "\t Batch 800/937\n",
      "\t Training Error 2.33 %\n",
      "\t Test Error 2.59 %\n",
      "Training relu net @ depth=5\n",
      "Epoch: 1/5\n",
      "\t Batch 400/937\n",
      "\t Batch 800/937\n",
      "\t Training Error 16.02 %\n",
      "\t Test Error 13.30 %\n",
      "Epoch: 2/5\n",
      "\t Batch 400/937\n",
      "\t Batch 800/937\n",
      "\t Training Error 4.93 %\n",
      "\t Test Error 8.30 %\n",
      "Epoch: 3/5\n",
      "\t Batch 400/937\n",
      "\t Batch 800/937\n",
      "\t Training Error 3.80 %\n",
      "\t Test Error 3.58 %\n",
      "Epoch: 4/5\n",
      "\t Batch 400/937\n",
      "\t Batch 800/937\n",
      "\t Training Error 3.21 %\n",
      "\t Test Error 3.65 %\n",
      "Epoch: 5/5\n",
      "\t Batch 400/937\n",
      "\t Batch 800/937\n",
      "\t Training Error 2.73 %\n",
      "\t Test Error 2.53 %\n",
      "Training relu net @ depth=10\n",
      "Epoch: 1/5\n",
      "\t Batch 400/937\n",
      "\t Batch 800/937\n",
      "\t Training Error 54.62 %\n",
      "\t Test Error 23.91 %\n",
      "Epoch: 2/5\n",
      "\t Batch 400/937\n",
      "\t Batch 800/937\n",
      "\t Training Error 16.22 %\n",
      "\t Test Error 19.59 %\n",
      "Epoch: 3/5\n",
      "\t Batch 400/937\n",
      "\t Batch 800/937\n",
      "\t Training Error 7.96 %\n",
      "\t Test Error 7.42 %\n",
      "Epoch: 4/5\n",
      "\t Batch 400/937\n",
      "\t Batch 800/937\n",
      "\t Training Error 6.13 %\n",
      "\t Test Error 6.89 %\n",
      "Epoch: 5/5\n",
      "\t Batch 400/937\n",
      "\t Batch 800/937\n",
      "\t Training Error 5.26 %\n",
      "\t Test Error 6.62 %\n"
     ]
    }
   ],
   "source": [
    "\"\"\"repeat the above experiment but for a ReLU MLP\"\"\"\n",
    "\n",
    "edf.learning_rate = best_relu_lr\n",
    "num_epochs = 5\n",
    "batch_size = 64\n",
    "num_layers = [3, 5, 10]\n",
    "\n",
    "relu_train_err_per_depth = []\n",
    "relu_test_err_per_depth = []\n",
    "\n",
    "#Clear and initiate\n",
    "np.random.seed(1234)\n",
    "edf.clear_compgraph()\n",
    "xnode = edf.Input()\n",
    "ynode = edf.Input()\n",
    "\n",
    "#Loop over list of nLayers\n",
    "for i, n in enumerate(num_layers):\n",
    "    print('Training relu net @ depth=%s' % str(n))\n",
    "\n",
    "    Phi = MLPparams(nInputs, nHiddens, nLabels, n)\n",
    "    probnode = MLPrelugraph(Phi, xnode, len(Phi))\n",
    "    lossnode = edf.LogLoss(probnode, ynode)\n",
    "\n",
    "    train_err_log, test_err_log = \\\n",
    "    train(num_epochs, batch_size, xnode, ynode, probnode, lossnode)\n",
    "\n",
    "    relu_train_err_per_depth.append(train_err_log)\n",
    "    relu_test_err_per_depth.append(test_err_log)"
   ]
  },
  {
   "cell_type": "code",
   "execution_count": 45,
   "metadata": {},
   "outputs": [],
   "source": [
    "relu_train_err_per_depth = np.array(relu_train_err_per_depth)\n",
    "relu_test_err_per_depth = np.array(relu_test_err_per_depth)"
   ]
  },
  {
   "cell_type": "code",
   "execution_count": 46,
   "metadata": {},
   "outputs": [
    {
     "data": {
      "image/png": "[encoded data removed]",
      "text/plain": [
       "<Figure size 432x288 with 1 Axes>"
      ]
     },
     "metadata": {
      "needs_background": "light"
     },
     "output_type": "display_data"
    },
    {
     "data": {
      "text/plain": [
       "<Figure size 432x288 with 0 Axes>"
      ]
     },
     "metadata": {},
     "output_type": "display_data"
    }
   ],
   "source": [
    "plt.xlabel(\"depth\")\n",
    "plt.ylabel(\"error (%)\")\n",
    "plt.plot(num_layers, relu_test_err_per_depth[:,-1], color='red')\n",
    "plt.plot(num_layers, relu_train_err_per_depth[:,-1], color='blue')\n",
    "plt.legend(['test error', 'train error'], loc='upper right')\n",
    "plt.show()\n",
    "plt.clf()"
   ]
  },
  {
   "cell_type": "code",
   "execution_count": null,
   "metadata": {},
   "outputs": [],
   "source": []
  }
 ],
 "metadata": {
  "anaconda-cloud": {},
  "kernelspec": {
   "display_name": "Python 3",
   "language": "python",
   "name": "python3"
  },
  "language_info": {
   "codemirror_mode": {
    "name": "ipython",
    "version": 3
   },
   "file_extension": ".py",
   "mimetype": "text/x-python",
   "name": "python",
   "nbconvert_exporter": "python",
   "pygments_lexer": "ipython3",
   "version": "3.8.3"
  }
 },
 "nbformat": 4,
 "nbformat_minor": 1
}
